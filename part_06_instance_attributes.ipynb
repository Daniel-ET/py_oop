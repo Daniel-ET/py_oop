{
  "nbformat": 4,
  "nbformat_minor": 0,
  "metadata": {
    "colab": {
      "provenance": [],
      "toc_visible": true
    },
    "kernelspec": {
      "name": "python3",
      "display_name": "Python 3"
    },
    "language_info": {
      "name": "python"
    }
  },
  "cells": [
    {
      "cell_type": "markdown",
      "source": [
        "# **Part 6**"
      ],
      "metadata": {
        "id": "cOp0ZkXLolAq"
      }
    },
    {
      "cell_type": "markdown",
      "source": [
        "### **Exercise 1**\n",
        "\n",
        "The Book class is defined.\n"
      ],
      "metadata": {
        "id": "TgSvmdlXrqm2"
      }
    },
    {
      "cell_type": "code",
      "execution_count": 1,
      "metadata": {
        "id": "Fxh9-oARof_D"
      },
      "outputs": [],
      "source": [
        "class Book:\n",
        "    language = 'ENG'\n",
        "    is_ebook = True"
      ]
    },
    {
      "cell_type": "markdown",
      "source": [
        "Create an instance of the Book class named *book*. Display the value of the `__dict__` attribute for the *book* instance. Then assign two attributes to the *book* instance:\n",
        "\n",
        "* *author* to the value `Dan Brown`\n",
        "* title to the value `Inferno`\n",
        "\n",
        "In response, display the `__dict__` attribute for the *book* instance again\n"
      ],
      "metadata": {
        "id": "Pq24KwiMskIw"
      }
    },
    {
      "cell_type": "code",
      "source": [
        "book = Book()\n",
        "print(book.__dict__)\n",
        "book.author = 'Dan Brown'\n",
        "book.title = 'Inferno'\n",
        "print(book.__dict__)"
      ],
      "metadata": {
        "colab": {
          "base_uri": "https://localhost:8080/"
        },
        "id": "CfgecCz5s6_O",
        "outputId": "45416744-12ca-41df-df05-5ee29ce3bf2a"
      },
      "execution_count": 2,
      "outputs": [
        {
          "output_type": "stream",
          "name": "stdout",
          "text": [
            "{}\n",
            "{'author': 'Dan Brown', 'title': 'Inferno'}\n"
          ]
        }
      ]
    },
    {
      "cell_type": "markdown",
      "source": [
        "### **Exercise 2**\n",
        "\n",
        "Create two instances of the *Book* class named *book_1* and *book_2*. Then assign instance attributes to these objects (using dot notation) as follows:\n",
        "\n",
        "to object *book_1*:\n",
        "* `author = 'Dan Brown'`\n",
        "* `title = 'Inferno'`\n",
        "\n",
        "to the object *book_2*:\n",
        "\n",
        "* `author = 'Dan Brown'`\n",
        "* `title = 'The Da Vinci Code'`\n",
        "* `year_of_publishment = 2003`\n",
        "\n",
        "In response, print the value of the `__dict__` attribute of *book_1* and `book_2`.\n",
        "\n"
      ],
      "metadata": {
        "id": "3feEYw1cvDoc"
      }
    },
    {
      "cell_type": "code",
      "source": [
        "class Book:\n",
        "    language = 'ENG'\n",
        "    is_ebook = True"
      ],
      "metadata": {
        "id": "NLn1qdEN40-z"
      },
      "execution_count": 3,
      "outputs": []
    },
    {
      "cell_type": "code",
      "source": [
        "book_1 = Book()\n",
        "book_2 = Book()\n",
        "\n",
        "book_1.author = 'Dan Brown'\n",
        "book_1.title = 'Inferno'\n",
        "\n",
        "book_2.author = 'Dan Brown'\n",
        "book_2.title = 'The Da Vinci Code'\n",
        "book_2.year_of_publishment = 2003\n",
        "\n",
        "print(book_1.__dict__)\n",
        "print(book_2.__dict__)"
      ],
      "metadata": {
        "colab": {
          "base_uri": "https://localhost:8080/"
        },
        "id": "Lrka5-2f58MJ",
        "outputId": "be4f2c5c-d803-4a40-ab76-967ed603d0aa"
      },
      "execution_count": 4,
      "outputs": [
        {
          "output_type": "stream",
          "name": "stdout",
          "text": [
            "{'author': 'Dan Brown', 'title': 'Inferno'}\n",
            "{'author': 'Dan Brown', 'title': 'The Da Vinci Code', 'year_of_publishment': 2003}\n"
          ]
        }
      ]
    },
    {
      "cell_type": "markdown",
      "source": [
        "### **Exercise 3**\n",
        "\n",
        "A books list was created"
      ],
      "metadata": {
        "id": "pC4jQkgwQpnv"
      }
    },
    {
      "cell_type": "code",
      "source": [
        "books = [book_1, book_2]"
      ],
      "metadata": {
        "id": "sVwBKS5HR-9G"
      },
      "execution_count": 5,
      "outputs": []
    },
    {
      "cell_type": "markdown",
      "source": [
        "Create a loop to list all the attributes of the book_1 and book_2 instances with their values"
      ],
      "metadata": {
        "id": "5lmd6FQcX4WB"
      }
    },
    {
      "cell_type": "code",
      "source": [
        "for book in books:\n",
        "    for attr in book.__dict__:\n",
        "        print(f\"{attr} -> {getattr(book, attr)}\")\n",
        "    print('-' * 30)"
      ],
      "metadata": {
        "colab": {
          "base_uri": "https://localhost:8080/"
        },
        "id": "L8-QmaRmYAP2",
        "outputId": "f81cfcc4-093b-4cf3-acf7-e0c11cbd2e75"
      },
      "execution_count": 6,
      "outputs": [
        {
          "output_type": "stream",
          "name": "stdout",
          "text": [
            "author -> Dan Brown\n",
            "title -> Inferno\n",
            "------------------------------\n",
            "author -> Dan Brown\n",
            "title -> The Da Vinci Code\n",
            "year_of_publishment -> 2003\n",
            "------------------------------\n"
          ]
        }
      ]
    },
    {
      "cell_type": "markdown",
      "source": [
        "### **Exercise 4**\n",
        "\n",
        "The *Book* is defined. A list *books_data* is also given.\n",
        "\n"
      ],
      "metadata": {
        "id": "Ii1za1gtYcH1"
      }
    },
    {
      "cell_type": "code",
      "source": [
        "class Book:\n",
        "    language = 'ENG'\n",
        "    is_ebook = True\n",
        "\n",
        "\n",
        "books_data = [\n",
        "              {'author': 'Dan Brown','title': 'Inferno',},\n",
        "              {'author': 'Dan Brown','title': 'The Da Vinci Code','year_of_publishment': 2003,},\n",
        "             ]"
      ],
      "metadata": {
        "id": "mpyH6cDTaB8j"
      },
      "execution_count": 8,
      "outputs": []
    },
    {
      "cell_type": "markdown",
      "source": [
        "Based on this data, create two instances of the Book class, where the instance attributes will be the keys from the given dictionaries (books_data list) with their corresponding values.\n",
        "\n",
        "In response, print the __dict__ attributes of the objects to the console."
      ],
      "metadata": {
        "id": "5gMYH6GGaw7l"
      }
    },
    {
      "cell_type": "code",
      "source": [
        "books = []\n",
        "for book_data in books_data:\n",
        "    book = Book()\n",
        "    for attr, value in book_data.items():\n",
        "        setattr(book, attr, value)\n",
        "    books.append(book)\n",
        "\n",
        "for book in books:\n",
        "    print(book.__dict__)"
      ],
      "metadata": {
        "colab": {
          "base_uri": "https://localhost:8080/"
        },
        "id": "6OtfCul7awgP",
        "outputId": "d11f26cc-aa3a-4c3d-a622-5b2e0976c64e"
      },
      "execution_count": 9,
      "outputs": [
        {
          "output_type": "stream",
          "name": "stdout",
          "text": [
            "{'author': 'Dan Brown', 'title': 'Inferno'}\n",
            "{'author': 'Dan Brown', 'title': 'The Da Vinci Code', 'year_of_publishment': 2003}\n"
          ]
        }
      ]
    },
    {
      "cell_type": "markdown",
      "source": [
        "### **Exercise 5**\n",
        "\n",
        " Implement a method called `set_title()` that allows you to set an instance attribute called title (without validation). Then create an instance of the Book class named book and set the title attribute to `'Inferno'` using the `set_title()` method.\n",
        "\n",
        "In response, print the value of the title attribute of the book instance."
      ],
      "metadata": {
        "id": "T1FJwV2ddc0E"
      }
    },
    {
      "cell_type": "code",
      "source": [
        "class Book:\n",
        "    language = 'ENG'\n",
        "    is_ebook = True\n",
        "\n",
        "    def set_title(self, value):\n",
        "        self.title = value\n",
        "\n",
        "book = Book()\n",
        "book.set_title('Inferno')\n",
        "book.title"
      ],
      "metadata": {
        "colab": {
          "base_uri": "https://localhost:8080/",
          "height": 35
        },
        "id": "z12AOePOd-ZO",
        "outputId": "15c95edf-7820-4e93-a255-e58dcab3b21c"
      },
      "execution_count": 10,
      "outputs": [
        {
          "output_type": "execute_result",
          "data": {
            "text/plain": [
              "'Inferno'"
            ],
            "application/vnd.google.colaboratory.intrinsic+json": {
              "type": "string"
            }
          },
          "metadata": {},
          "execution_count": 10
        }
      ]
    },
    {
      "cell_type": "markdown",
      "source": [
        "### **Exercise 6**\n",
        "\n",
        "Implement a method named `set_title()` that sets an instance attribute named title. Before setting the value, check if it's an object of `str` type, if not raise a `TypeError`."
      ],
      "metadata": {
        "id": "szi0jYjhiMaW"
      }
    },
    {
      "cell_type": "code",
      "source": [
        "class Book:\n",
        "    language = 'ENG'\n",
        "    is_ebook = True\n",
        "\n",
        "    def set_title(self, value):\n",
        "        if not isinstance(value, str):\n",
        "            raise TypeError(\n",
        "                'The value of the title attribute must be of str '\n",
        "                'type.'\n",
        "            )\n",
        "        self.title = value\n",
        "\n",
        "\n",
        "book = Book()\n",
        "book.set_title('Inferno')\n",
        "print(book.title)"
      ],
      "metadata": {
        "colab": {
          "base_uri": "https://localhost:8080/"
        },
        "id": "zQfMR1h0ibdX",
        "outputId": "64d55f14-c68a-4c99-d10e-3d09cccc3480"
      },
      "execution_count": 11,
      "outputs": [
        {
          "output_type": "stream",
          "name": "stdout",
          "text": [
            "Inferno\n"
          ]
        }
      ]
    },
    {
      "cell_type": "markdown",
      "source": [
        "### **Exercise 7**\n",
        "\n",
        "Create an instance of the Book class named book. Then, using the `try ... except ...` clause, try using the `set_title()` method to set the value of the title attribute to `False`. In case of a `TypeError`, print the error message to the console."
      ],
      "metadata": {
        "id": "woq1Rap4jQ-5"
      }
    },
    {
      "cell_type": "code",
      "source": [
        "book = Book()\n",
        "\n",
        "try:\n",
        "    book.set_title(False)\n",
        "except TypeError as error:\n",
        "    print(error)"
      ],
      "metadata": {
        "colab": {
          "base_uri": "https://localhost:8080/"
        },
        "id": "vdwD5UG7jOF8",
        "outputId": "235a6de7-3354-4112-847c-050d51b66521"
      },
      "execution_count": 12,
      "outputs": [
        {
          "output_type": "stream",
          "name": "stdout",
          "text": [
            "The value of the title attribute must be of str type.\n"
          ]
        }
      ]
    }
  ]
}
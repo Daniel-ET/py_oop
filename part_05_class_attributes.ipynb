{
  "nbformat": 4,
  "nbformat_minor": 0,
  "metadata": {
    "colab": {
      "provenance": []
    },
    "kernelspec": {
      "name": "python3",
      "display_name": "Python 3"
    },
    "language_info": {
      "name": "python"
    }
  },
  "cells": [
    {
      "cell_type": "markdown",
      "source": [
        "# <u>**Part 5**\n",
        "\n"
      ],
      "metadata": {
        "id": "_jguG5JlB6ue"
      }
    },
    {
      "cell_type": "markdown",
      "source": [
        "### **Exercise 1**\n",
        "\n",
        "Implement a class named Phone. In the Phone class, define a class attribute named brand and set its value to `'Apple'`. Then, using dot notation and `print()` function, display the value of the brand attribute of the Phone class to the console.\n"
      ],
      "metadata": {
        "id": "e_MsxjBhqg5E"
      }
    },
    {
      "cell_type": "code",
      "execution_count": null,
      "metadata": {
        "colab": {
          "base_uri": "https://localhost:8080/",
          "height": 35
        },
        "id": "tU6OuADQ3ud6",
        "outputId": "7132bf77-897f-4750-cc1f-60e71811aa58"
      },
      "outputs": [
        {
          "output_type": "execute_result",
          "data": {
            "text/plain": [
              "'Apple'"
            ],
            "application/vnd.google.colaboratory.intrinsic+json": {
              "type": "string"
            }
          },
          "metadata": {},
          "execution_count": 2
        }
      ],
      "source": [
        "class Phone:\n",
        "    brand = 'Apple'\n",
        "\n",
        "Phone.brand"
      ]
    },
    {
      "cell_type": "markdown",
      "source": [
        "### **Exercise 2**\n",
        "\n",
        "Implement a class named *Phone*. In the *Phone* class, define two class attributes with names:\n",
        "\n",
        "* brand\n",
        "* model\n",
        "\n",
        "and set their values to:\n",
        "\n",
        "* `Apple`\n",
        "* `iPhone X`\n",
        "\n"
      ],
      "metadata": {
        "id": "DsmEfIVkrTT6"
      }
    },
    {
      "cell_type": "code",
      "source": [
        "class Phone:\n",
        "    brand = 'Apple'\n",
        "    model = 'iPhone x'\n",
        "\n",
        "print(getattr(Phone, 'brand'))\n",
        "print(getattr(Phone, 'model'))"
      ],
      "metadata": {
        "colab": {
          "base_uri": "https://localhost:8080/"
        },
        "id": "RxGbW2iOs6Fb",
        "outputId": "bbc94ede-9b46-4d75-fcdc-3a552f83a9c9"
      },
      "execution_count": null,
      "outputs": [
        {
          "output_type": "stream",
          "name": "stdout",
          "text": [
            "Apple\n",
            "iPhone x\n"
          ]
        }
      ]
    },
    {
      "cell_type": "markdown",
      "source": [
        "### **Exercise 3**\n",
        "\n",
        "A class named *Phone* is defined below."
      ],
      "metadata": {
        "id": "3fsU-ZP64z7e"
      }
    },
    {
      "cell_type": "code",
      "source": [
        "class Phone:\n",
        "    brand = 'Apple'\n",
        "    model = 'iPhone X'"
      ],
      "metadata": {
        "id": "rULOG52f417t"
      },
      "execution_count": null,
      "outputs": []
    },
    {
      "cell_type": "markdown",
      "source": [
        "Using dot notation, modify the value of the attributes\n",
        "\n",
        "* brand to `'samsung'`\n",
        "* model to `'Galaxy'`"
      ],
      "metadata": {
        "id": "7WKCQEdEZmvh"
      }
    },
    {
      "cell_type": "code",
      "source": [
        "Phone.brand = 'Samsung'\n",
        "Phone.model = 'Galaxy'\n",
        "\n",
        "print(f'brand: {Phone.brand}')\n",
        "print(f'model: {Phone.model}')"
      ],
      "metadata": {
        "colab": {
          "base_uri": "https://localhost:8080/"
        },
        "id": "CBrnubU4ZmRo",
        "outputId": "98a580fc-aab0-44f5-8f9c-031fdd2942e4"
      },
      "execution_count": null,
      "outputs": [
        {
          "output_type": "stream",
          "name": "stdout",
          "text": [
            "brand: Samsung\n",
            "model: Galaxy\n"
          ]
        }
      ]
    },
    {
      "cell_type": "markdown",
      "source": [
        "### **Exercise 4**\n",
        "\n",
        "A class named *Laptop* is defined below."
      ],
      "metadata": {
        "id": "UJFm1mNfa7K4"
      }
    },
    {
      "cell_type": "code",
      "source": [
        "class Laptop:\n",
        "    brand = 'Lenovo'\n",
        "    model = 'Thinkpad'"
      ],
      "metadata": {
        "id": "yProq6sTSndL"
      },
      "execution_count": null,
      "outputs": []
    },
    {
      "cell_type": "markdown",
      "source": [
        "Using the `setattr()` built-in function modify the value of attributes\n",
        "\n",
        "* 'brand' to `'Acer'`\n",
        "* 'model' to `'Predator'`\n",
        "\n",
        "In response, using the built-in function `getattr()` and `print()`, print the values of the *brand* and *model* attributes to the console"
      ],
      "metadata": {
        "id": "kUhsh1bISzdV"
      }
    },
    {
      "cell_type": "code",
      "source": [
        "setattr(Laptop, 'brand', 'Acer')\n",
        "setattr(Laptop, 'model', 'Predator')\n",
        "\n",
        "print(f\"brand: {getattr(Laptop, 'brand')}\")\n",
        "print(f\"model: {getattr(Laptop, 'model')}\")"
      ],
      "metadata": {
        "colab": {
          "base_uri": "https://localhost:8080/"
        },
        "id": "9UEA_84kSzDm",
        "outputId": "7e32c2e2-d75b-4b0b-caf6-931aa064ffe2"
      },
      "execution_count": null,
      "outputs": [
        {
          "output_type": "stream",
          "name": "stdout",
          "text": [
            "brand: Acer\n",
            "model: Predator\n"
          ]
        }
      ]
    },
    {
      "cell_type": "markdown",
      "source": [
        "### **Exercise 5**\n",
        "\n",
        "Implement a class named *OnlineShop* with the class attributes appropriately:\n",
        "\n",
        "* sector to the value `'electronics'`\n",
        "* sector_code to the value `'ELE`\n",
        "* is_public_company to the value `False`\n",
        "\n",
        "Then, using dot notation, add a class attribute called *country* and set its value to `USA`. In response, print the user-defined *OnlineShop* class **attribute names**."
      ],
      "metadata": {
        "id": "3nNjmkHRDVjE"
      }
    },
    {
      "cell_type": "code",
      "source": [
        "class OnlineShop:\n",
        "    sector = 'electronics'\n",
        "    sector_code = 'ELE'\n",
        "    is_public_company = False\n",
        "\n",
        "OnlineShop.country = 'USA'\n",
        "\n",
        "attrs = [\n",
        "    attr\n",
        "    for attr in OnlineShop.__dict__.keys()\n",
        "    if not attr.startswith('_')\n",
        "]\n",
        "print(attrs)"
      ],
      "metadata": {
        "colab": {
          "base_uri": "https://localhost:8080/"
        },
        "id": "LjKd6mz-adXT",
        "outputId": "0cd77fe4-5bb0-44ca-d838-3ee03c6c10ee"
      },
      "execution_count": null,
      "outputs": [
        {
          "output_type": "stream",
          "name": "stdout",
          "text": [
            "['sector', 'sector_code', 'is_public_company', 'country']\n"
          ]
        }
      ]
    },
    {
      "cell_type": "markdown",
      "source": [
        "### **Exercise 6**\n",
        "\n",
        "Using the `del` statement remove the class attribute named `sector_code`. In response, print the rest of the user-defined *OnlineShop* class attribute names"
      ],
      "metadata": {
        "id": "um6WPM8qsJwz"
      }
    },
    {
      "cell_type": "code",
      "source": [
        "class OnlineShop:\n",
        "    sector = 'electronics'\n",
        "    sector_code = 'ELE'\n",
        "    is_public_company = False\n",
        "\n",
        "del OnlineShop.sector_code\n",
        "\n",
        "attrs = [\n",
        "    attr\n",
        "    for attr in OnlineShop.__dict__.keys()\n",
        "    if not attr.startswith('_')\n",
        "]\n",
        "print(attrs)"
      ],
      "metadata": {
        "colab": {
          "base_uri": "https://localhost:8080/"
        },
        "id": "u7WhsQhS5tWL",
        "outputId": "d16ab8e4-84ac-4879-fbfb-651902b737ce"
      },
      "execution_count": null,
      "outputs": [
        {
          "output_type": "stream",
          "name": "stdout",
          "text": [
            "['sector', 'is_public_company']\n"
          ]
        }
      ]
    },
    {
      "cell_type": "markdown",
      "source": [
        "### **Exercise 7**\n",
        "\n",
        "Using the builtin `delattr()` function remove the class attribute sector_code. In response, print the rest of the user-defined OnlineShop class attribute names as list."
      ],
      "metadata": {
        "id": "FO6-xbRp6Lpy"
      }
    },
    {
      "cell_type": "code",
      "source": [
        "class OnlineShop:\n",
        "    sector = 'electronics'\n",
        "    sector_code = 'ELE'\n",
        "    is_public_company = False\n",
        "\n",
        "delattr(OnlineShop, 'sector_code')\n",
        "attrs = [\n",
        "    attr\n",
        "    for attr in OnlineShop.__dict__.keys()\n",
        "    if not attr.startswith('_')\n",
        "]\n",
        "print(attrs)"
      ],
      "metadata": {
        "colab": {
          "base_uri": "https://localhost:8080/"
        },
        "id": "sy3p5Mq-9BFB",
        "outputId": "4bd3eee5-567a-489e-db7c-c52a5fc17f17"
      },
      "execution_count": null,
      "outputs": [
        {
          "output_type": "stream",
          "name": "stdout",
          "text": [
            "['sector', 'is_public_company']\n"
          ]
        }
      ]
    },
    {
      "cell_type": "markdown",
      "source": [
        "### **Exercise 8**\n",
        "\n",
        "Display all **user-defined** *OnlineShop* class attribute names with their values as shown below."
      ],
      "metadata": {
        "id": "2OTNn4iV-IXv"
      }
    },
    {
      "cell_type": "code",
      "source": [
        "class OnlineShop:\n",
        "    sector = 'electronics'\n",
        "    sector_code = 'ELE'\n",
        "    is_public_company = False\n",
        "\n",
        "for attr, value in OnlineShop.__dict__.items():\n",
        "    if not attr.startswith('_'):\n",
        "        print(f'{attr} -> {value}')"
      ],
      "metadata": {
        "colab": {
          "base_uri": "https://localhost:8080/"
        },
        "id": "w0Cidqrr-052",
        "outputId": "f6dfa41e-8356-436d-cff4-5cb851404fb9"
      },
      "execution_count": 4,
      "outputs": [
        {
          "output_type": "stream",
          "name": "stdout",
          "text": [
            "sector -> electronics\n",
            "sector_code -> ELE\n",
            "is_public_company -> False\n"
          ]
        }
      ]
    },
    {
      "cell_type": "markdown",
      "source": [
        "### **Exercise 9**\n",
        "\n",
        "Outside of the class, implement a function called `describe_attrs()` that displays the names of all **user-defined class attribute** and their values as shown below. In response, call the `describe_attrs()` function"
      ],
      "metadata": {
        "id": "3nX_6LobAZo4"
      }
    },
    {
      "cell_type": "code",
      "source": [
        "def describe_attrs():\n",
        "    for attr, value in OnlineShop.__dict__.items():\n",
        "        if not attr.startswith('_'):\n",
        "            print(f'{attr} -> {value}')\n",
        "\n",
        "describe_attrs()"
      ],
      "metadata": {
        "colab": {
          "base_uri": "https://localhost:8080/"
        },
        "id": "b1QPqocxNUrU",
        "outputId": "9db9a592-ba9b-42cf-fa4b-e636950a1e2d"
      },
      "execution_count": 5,
      "outputs": [
        {
          "output_type": "stream",
          "name": "stdout",
          "text": [
            "sector -> electronics\n",
            "sector_code -> ELE\n",
            "is_public_company -> False\n"
          ]
        }
      ]
    },
    {
      "cell_type": "markdown",
      "source": [
        "### **Exercise 10**\n",
        "\n",
        "Implement a function (class callabe attribute) named `get_sector()` that returns the value of the sector attribute of *OnlineShop* class."
      ],
      "metadata": {
        "id": "5m-2ufP9OhOt"
      }
    },
    {
      "cell_type": "code",
      "source": [
        "class OnlineShop:\n",
        "    sector = 'electronics'\n",
        "    sector_code = 'ELE'\n",
        "    is_public_company = False\n",
        "\n",
        "    def get_sector():\n",
        "        return OnlineShop.sector"
      ],
      "metadata": {
        "id": "QciQno7gO0o7"
      },
      "execution_count": 6,
      "outputs": []
    },
    {
      "cell_type": "markdown",
      "source": [
        "### **Exercise 11**\n",
        "\n",
        "Implement the *HouseProject* class with class attributes respectively:\n",
        "\n",
        "* `number_of_floors = 3`\n",
        "* `area = 100`\n",
        "\n",
        "Then, in the HouseProject class implement a function (class callable attribute) called describe_project(), which displays basic information about the project as follows:\n",
        "\n",
        "* Floor number = 3\n",
        "* Area = 100\n",
        "\n",
        "In response, call the `describe_project()` function."
      ],
      "metadata": {
        "id": "YGR9fdqnP8P1"
      }
    },
    {
      "cell_type": "code",
      "source": [
        "class HouseProject:\n",
        "    number_of_floors = 3\n",
        "    area = 100\n",
        "\n",
        "    def describe_project():\n",
        "        print(f\"Floor number: {HouseProject.number_of_floors}\\n\"\n",
        "              f\"Area:{HouseProject.area}\")\n",
        "\n",
        "HouseProject.describe_project()"
      ],
      "metadata": {
        "colab": {
          "base_uri": "https://localhost:8080/"
        },
        "id": "U5tGTKmpXz79",
        "outputId": "40169397-913b-4147-a8dc-83d2b43ce2c2"
      },
      "execution_count": 9,
      "outputs": [
        {
          "output_type": "stream",
          "name": "stdout",
          "text": [
            "Floor number: 3\n",
            "Area:100\n"
          ]
        }
      ]
    }
  ]
}
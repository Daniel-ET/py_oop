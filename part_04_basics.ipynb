{
  "nbformat": 4,
  "nbformat_minor": 0,
  "metadata": {
    "colab": {
      "provenance": []
    },
    "kernelspec": {
      "name": "python3",
      "display_name": "Python 3"
    },
    "language_info": {
      "name": "python"
    }
  },
  "cells": [
    {
      "cell_type": "markdown",
      "source": [
        "# <u>**Part 4**"
      ],
      "metadata": {
        "id": "6Xs7BrpIhOkD"
      }
    },
    {
      "cell_type": "markdown",
      "source": [
        "### **Exercise 1**\n",
        "\n",
        "Create the simplest class in Python and name it *Vehicle*"
      ],
      "metadata": {
        "id": "0ZSiXVn_hXUe"
      }
    },
    {
      "cell_type": "code",
      "execution_count": null,
      "metadata": {
        "id": "4vF6PKA_hJ-w"
      },
      "outputs": [],
      "source": [
        "class Vehicle:\n",
        "    pass"
      ]
    },
    {
      "cell_type": "markdown",
      "source": [
        "### **Exercise 2**\n",
        "\n",
        "Create the simplest Python class named *Phone* and display its type to the console."
      ],
      "metadata": {
        "id": "9DAZBkODjZm4"
      }
    },
    {
      "cell_type": "code",
      "source": [
        "class Phone:\n",
        "    pass\n",
        "\n",
        "type(Phone)"
      ],
      "metadata": {
        "colab": {
          "base_uri": "https://localhost:8080/"
        },
        "id": "zqdNlTTpjjvY",
        "outputId": "aa7b7fc4-82d8-4440-a9ad-1e2623603772"
      },
      "execution_count": null,
      "outputs": [
        {
          "output_type": "execute_result",
          "data": {
            "text/plain": [
              "type"
            ]
          },
          "metadata": {},
          "execution_count": 4
        }
      ]
    },
    {
      "cell_type": "markdown",
      "source": [
        "### **Exercise 3**\n",
        "\n",
        "Create a class named *Vehicle* and add the following documentation"
      ],
      "metadata": {
        "id": "bhnuft9ujuou"
      }
    },
    {
      "cell_type": "code",
      "source": [
        "class Vehicle:\n",
        "    \"\"\"This is a Vehicle class\"\"\""
      ],
      "metadata": {
        "id": "S2jz5CidjyqB"
      },
      "execution_count": null,
      "outputs": []
    },
    {
      "cell_type": "markdown",
      "source": [
        "### **Exercise 4**\n",
        "\n",
        "Display the value of the __name__ attribute of the Vehicle class to the console"
      ],
      "metadata": {
        "id": "_fwWeTRLmfsS"
      }
    },
    {
      "cell_type": "code",
      "source": [
        "Vehicle.__name__"
      ],
      "metadata": {
        "id": "MhZj4V71mpFf",
        "outputId": "26e39b7c-4843-4add-9e6e-84e09dbc2b74",
        "colab": {
          "base_uri": "https://localhost:8080/",
          "height": 35
        }
      },
      "execution_count": null,
      "outputs": [
        {
          "output_type": "execute_result",
          "data": {
            "text/plain": [
              "'Vehicle'"
            ],
            "application/vnd.google.colaboratory.intrinsic+json": {
              "type": "string"
            }
          },
          "metadata": {},
          "execution_count": 6
        }
      ]
    },
    {
      "cell_type": "markdown",
      "source": [
        "### **Exercise 5**\n",
        "\n",
        "The implementation of the *Container* class is given:\n"
      ],
      "metadata": {
        "id": "Sd2LFkeN3kIz"
      }
    },
    {
      "cell_type": "code",
      "source": [
        "class Container:\n",
        "    \"\"\"This is a cotainer class\"\"\""
      ],
      "metadata": {
        "id": "dr3pbfwS6CCe"
      },
      "execution_count": 1,
      "outputs": []
    },
    {
      "cell_type": "markdown",
      "source": [
        "Display all `__dict__` atttribute keys of the *Container* class to the console."
      ],
      "metadata": {
        "id": "ZFPFOQ866IVo"
      }
    },
    {
      "cell_type": "code",
      "source": [
        "Container.__dict__.keys()"
      ],
      "metadata": {
        "colab": {
          "base_uri": "https://localhost:8080/"
        },
        "id": "r30jxlDd6HdR",
        "outputId": "b51dafef-4055-4aae-b008-628e569154be"
      },
      "execution_count": 4,
      "outputs": [
        {
          "output_type": "execute_result",
          "data": {
            "text/plain": [
              "dict_keys(['__module__', '__doc__', '__dict__', '__weakref__'])"
            ]
          },
          "metadata": {},
          "execution_count": 4
        }
      ]
    },
    {
      "cell_type": "markdown",
      "source": [
        "### **Exercise 6**\n",
        "\n",
        "Display the value of the `__module__` attribute of the *Container* class to the console."
      ],
      "metadata": {
        "id": "-gcd8lUoCKQi"
      }
    },
    {
      "cell_type": "code",
      "source": [
        "Container.__module__"
      ],
      "metadata": {
        "colab": {
          "base_uri": "https://localhost:8080/",
          "height": 35
        },
        "id": "4abLjlh6CLtD",
        "outputId": "aa05728c-9319-4f6c-d4e1-f59cf1ff4afc"
      },
      "execution_count": 5,
      "outputs": [
        {
          "output_type": "execute_result",
          "data": {
            "text/plain": [
              "'__main__'"
            ],
            "application/vnd.google.colaboratory.intrinsic+json": {
              "type": "string"
            }
          },
          "metadata": {},
          "execution_count": 5
        }
      ]
    },
    {
      "cell_type": "markdown",
      "source": [
        "### **Exercise 7**\n",
        "\n",
        "Create an instance of the *Container* class and assign it to the container variable."
      ],
      "metadata": {
        "id": "3W6EZUPNHXwV"
      }
    },
    {
      "cell_type": "code",
      "source": [
        "container = Container()\n",
        "type(container)"
      ],
      "metadata": {
        "colab": {
          "base_uri": "https://localhost:8080/"
        },
        "id": "wNcJAJTsIUPE",
        "outputId": "414ed3bc-2e3f-4ee8-f308-b3ea6827f431"
      },
      "execution_count": 6,
      "outputs": [
        {
          "output_type": "execute_result",
          "data": {
            "text/plain": [
              "__main__.Container"
            ]
          },
          "metadata": {},
          "execution_count": 6
        }
      ]
    },
    {
      "cell_type": "markdown",
      "source": [
        "### **Exercise 8**\n",
        "\n",
        "Create an instance of the Container class and assign to the container variable. Then print the __class__ attribute value of the container instance."
      ],
      "metadata": {
        "id": "2Z3q2ZKsIu0v"
      }
    },
    {
      "cell_type": "code",
      "source": [
        "container = Container()\n",
        "container.__class__"
      ],
      "metadata": {
        "colab": {
          "base_uri": "https://localhost:8080/"
        },
        "id": "oLJw8hH7I4W_",
        "outputId": "390e6356-b4bb-4a1a-fc0f-a13b986ad640"
      },
      "execution_count": 7,
      "outputs": [
        {
          "output_type": "execute_result",
          "data": {
            "text/plain": [
              "__main__.Container"
            ]
          },
          "metadata": {},
          "execution_count": 7
        }
      ]
    },
    {
      "cell_type": "markdown",
      "source": [
        "### **Exercise 9**\n",
        "\n",
        "Define a simple class named Model. Then create an instance of this class named model.\n",
        "\n",
        "Using the built-in function isinstance() check if the model is an instance of the Model class. Print the result to the console."
      ],
      "metadata": {
        "id": "EmakpXWuKS3X"
      }
    },
    {
      "cell_type": "code",
      "source": [
        "class Model:\n",
        "    pass\n",
        "\n",
        "model = Model()\n",
        "isinstance(model, Model)"
      ],
      "metadata": {
        "colab": {
          "base_uri": "https://localhost:8080/"
        },
        "id": "oApYmdlpL1WK",
        "outputId": "b12e8e8f-afc1-446b-c053-041b8610ebfd"
      },
      "execution_count": 8,
      "outputs": [
        {
          "output_type": "execute_result",
          "data": {
            "text/plain": [
              "True"
            ]
          },
          "metadata": {},
          "execution_count": 8
        }
      ]
    },
    {
      "cell_type": "markdown",
      "source": [
        "### **Exercise 10**\n",
        "\n",
        "Define two empty classes named:\n",
        "\n",
        "* Model\n",
        "* View\n",
        "\n",
        "Then create two instances (one for each class):\n",
        "\n",
        "* model for the model class\n",
        "* view for the view class\n",
        "\n",
        "Using the built-in function isinstance() check whether the model and view objects are instances of the Model class. Print the result to the console."
      ],
      "metadata": {
        "id": "XWgWkEtzL9VS"
      }
    },
    {
      "cell_type": "code",
      "source": [
        "class Model:\n",
        "    pass\n",
        "\n",
        "class View:\n",
        "    pass\n",
        "\n",
        "model = Model()\n",
        "view = View()\n",
        "\n",
        "print(isinstance(model, Model))\n",
        "print(isinstance(view, Model))"
      ],
      "metadata": {
        "colab": {
          "base_uri": "https://localhost:8080/"
        },
        "id": "H_GTZMcmMwgm",
        "outputId": "d02173a4-d42e-450f-c001-daf9c9573b8d"
      },
      "execution_count": 10,
      "outputs": [
        {
          "output_type": "stream",
          "name": "stdout",
          "text": [
            "True\n",
            "False\n"
          ]
        }
      ]
    },
    {
      "cell_type": "markdown",
      "source": [
        "### **Exercise 11**\n",
        "\n",
        "Two empty classes are defined:\n",
        "\n",
        "* Model\n",
        "* View"
      ],
      "metadata": {
        "id": "LPjGg0YZOSvs"
      }
    },
    {
      "cell_type": "code",
      "source": [
        "class Model:\n",
        "    pass\n",
        "\n",
        "class View:\n",
        "    pass"
      ],
      "metadata": {
        "id": "a8nHIGOQPAyw"
      },
      "execution_count": 13,
      "outputs": []
    },
    {
      "cell_type": "markdown",
      "source": [
        "Three objects were created (object1, object2, object3).\n"
      ],
      "metadata": {
        "id": "zb-4jyPQPEle"
      }
    },
    {
      "cell_type": "code",
      "source": [
        "object1 = Model()\n",
        "object2 = [Model(), Model()]\n",
        "object3 = {}"
      ],
      "metadata": {
        "id": "wjAIs5jzPVIY"
      },
      "execution_count": 14,
      "outputs": []
    },
    {
      "cell_type": "markdown",
      "source": [
        "Using the built-in function isinstance() check whether object1, object2 and object3 are instances of the Model class or of the View class. Print the result to the console."
      ],
      "metadata": {
        "id": "suoZb6pCPXmN"
      }
    },
    {
      "cell_type": "code",
      "source": [
        "print(isinstance(object1, (Model, View)))\n",
        "print(isinstance(object2, (Model, View)))\n",
        "print(isinstance(object3, (Model, View)))"
      ],
      "metadata": {
        "colab": {
          "base_uri": "https://localhost:8080/"
        },
        "id": "7XHPnG34PEER",
        "outputId": "6b07910a-74b6-4216-94ce-d21db74092e7"
      },
      "execution_count": 15,
      "outputs": [
        {
          "output_type": "stream",
          "name": "stdout",
          "text": [
            "True\n",
            "False\n",
            "False\n"
          ]
        }
      ]
    },
    {
      "cell_type": "markdown",
      "source": [
        "### **Exercise 12**\n",
        "\n",
        "Implement an empty class named Container. Then create an instance of this class named container. In response, display the type of dictionary attribute `__dict__` for the Container class and for the container instance."
      ],
      "metadata": {
        "id": "sbzggjsKPwZI"
      }
    },
    {
      "cell_type": "code",
      "source": [
        "class Container:\n",
        "    pass\n",
        "\n",
        "container = Container()\n",
        "\n",
        "print(type(Container.__dict__))\n",
        "print(type(container.__dict__))"
      ],
      "metadata": {
        "colab": {
          "base_uri": "https://localhost:8080/"
        },
        "id": "sEFnQAAiQLaS",
        "outputId": "4631fc2d-5602-4b36-8661-b990bf6187ae"
      },
      "execution_count": 16,
      "outputs": [
        {
          "output_type": "stream",
          "name": "stdout",
          "text": [
            "<class 'mappingproxy'>\n",
            "<class 'dict'>\n"
          ]
        }
      ]
    },
    {
      "cell_type": "markdown",
      "source": [
        "### **Exercise 13**\n",
        "\n",
        "Two empty classes are defined:\n",
        "\n",
        "* Model\n",
        "* View\n",
        "\n"
      ],
      "metadata": {
        "id": "hQ9YCfDPQvbC"
      }
    },
    {
      "cell_type": "code",
      "source": [
        "class Model:\n",
        "    pass\n",
        "\n",
        "class View:\n",
        "    pass"
      ],
      "metadata": {
        "id": "6GOsK3O8RIOJ"
      },
      "execution_count": 17,
      "outputs": []
    },
    {
      "cell_type": "markdown",
      "source": [
        "Using the built-in function issubclass() check if the classes Model and View are derived classes (subclasses) of the built-in object class."
      ],
      "metadata": {
        "id": "0lonu5QURIkZ"
      }
    },
    {
      "cell_type": "code",
      "source": [
        "print(issubclass(Model, object))\n",
        "print(issubclass(View, object))"
      ],
      "metadata": {
        "colab": {
          "base_uri": "https://localhost:8080/"
        },
        "id": "uEZjQRULRSDI",
        "outputId": "70785951-9684-4306-d0a7-8a818b3c9a64"
      },
      "execution_count": 20,
      "outputs": [
        {
          "output_type": "stream",
          "name": "stdout",
          "text": [
            "True\n",
            "True\n"
          ]
        }
      ]
    }
  ]
}
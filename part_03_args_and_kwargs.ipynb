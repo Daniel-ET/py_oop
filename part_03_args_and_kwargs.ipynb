{
  "nbformat": 4,
  "nbformat_minor": 0,
  "metadata": {
    "colab": {
      "provenance": []
    },
    "kernelspec": {
      "name": "python3",
      "display_name": "Python 3"
    },
    "language_info": {
      "name": "python"
    }
  },
  "cells": [
    {
      "cell_type": "markdown",
      "source": [
        "# **<U>Part 3**"
      ],
      "metadata": {
        "id": "YB9T4Bee8o1J"
      }
    },
    {
      "cell_type": "markdown",
      "source": [
        "##**Exercise 1**\n",
        "\n",
        "Implement a function called `stick()` that takes any number of bare arguments and return an object of type `str` being a concatenation of all arguments of type `str` passed to the function with the `'#'` sign\n",
        "\n",
        "As an answer call the `stick()` function in the following ways (print the result to the console):\n",
        "\n",
        "* `stick('sport', 'summer')`\n",
        "* `stick(3, 5, 7)`\n",
        "* `stick(False, 'time', True, 'workout', [], 'gym')`\n",
        "\n"
      ],
      "metadata": {
        "id": "fhMw1qAf8zop"
      }
    },
    {
      "cell_type": "code",
      "execution_count": null,
      "metadata": {
        "colab": {
          "base_uri": "https://localhost:8080/"
        },
        "id": "qdMuYTga8RJ5",
        "outputId": "a9a0cb17-7a6d-474d-9523-28c9c2ecaca6"
      },
      "outputs": [
        {
          "output_type": "stream",
          "name": "stdout",
          "text": [
            "sport#summer\n",
            "\n",
            "time#workout#gym\n"
          ]
        }
      ],
      "source": [
        "def stick(*args):\n",
        "    args = [arg for arg in args if isinstance(arg, str)]\n",
        "    result = '#'.join(args)\n",
        "    return result\n",
        "\n",
        "print(stick('sport', 'summer'))\n",
        "print(stick(3, 5, 7))\n",
        "print(stick(False, 'time', True, 'workout', [], 'gym'))"
      ]
    },
    {
      "cell_type": "markdown",
      "source": [
        "### **Exercise 2**\n",
        "\n",
        "Implement a function called `display_info()` which prints the name of the company (as shown below) and *if* the user also passes an argument named price, it prints the price.\n",
        "\n",
        "\n",
        "In response, call `display_info()` as shown below:\n",
        "\n",
        "* `display_info(company='CD Projekt', price=100)`\n"
      ],
      "metadata": {
        "id": "rhNG-9s5C68D"
      }
    },
    {
      "cell_type": "code",
      "source": [
        "def display_info(company, **kwargs):\n",
        "    print(f'company name: {company}')\n",
        "    if 'price' in kwargs:\n",
        "        print(f\"price: $ {kwargs['price']}\")\n",
        "\n",
        "display_info('company A')\n",
        "print('')\n",
        "display_info(company='CD Projekt', price=100)\n"
      ],
      "metadata": {
        "colab": {
          "base_uri": "https://localhost:8080/"
        },
        "id": "uKOIUPBQD3kD",
        "outputId": "5c87d592-a68a-4b50-a164-306f6d9c5263"
      },
      "execution_count": null,
      "outputs": [
        {
          "output_type": "stream",
          "name": "stdout",
          "text": [
            "company name: company A\n",
            "\n",
            "company name: CD Projekt\n",
            "price: $ 100\n"
          ]
        }
      ]
    }
  ]
}
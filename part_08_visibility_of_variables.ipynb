{
  "nbformat": 4,
  "nbformat_minor": 0,
  "metadata": {
    "colab": {
      "provenance": []
    },
    "kernelspec": {
      "name": "python3",
      "display_name": "Python 3"
    },
    "language_info": {
      "name": "python"
    }
  },
  "cells": [
    {
      "cell_type": "markdown",
      "source": [
        "# **Part 8**\n",
        "\n"
      ],
      "metadata": {
        "id": "mvCmzrbf_N4-"
      }
    },
    {
      "cell_type": "markdown",
      "source": [
        "### **Exercise 1**\n",
        "\n",
        "Implement a class *Laptop* that sets the following instance attributes when creating an instance.:\n",
        "\n",
        "* *brand* as a bare instance attribute\n",
        "* *model* as a protected attribute\n",
        "* *price* as a private attribute\n",
        "\n",
        "Then create an instance named *laptop* with the following arguments:\n",
        "\n",
        "* `'Acer'`\n",
        "* `'Predator'`\n",
        "* `5490`\n",
        "\n",
        "In response, print the value of the `__dict__` attribute of the *laptop* instance.\n"
      ],
      "metadata": {
        "id": "EMKZO8EPAIsO"
      }
    },
    {
      "cell_type": "code",
      "execution_count": 3,
      "metadata": {
        "id": "LIPE38cj92Ng",
        "colab": {
          "base_uri": "https://localhost:8080/"
        },
        "outputId": "ccc993ec-8749-4258-c1f1-79920dd68430"
      },
      "outputs": [
        {
          "output_type": "stream",
          "name": "stdout",
          "text": [
            "{'brand': 'Acer', '_model': 'Predator', '_Laptop__price': 5490}\n"
          ]
        }
      ],
      "source": [
        "class Laptop:\n",
        "\n",
        "    def __init__(self, brand, model, price):\n",
        "        self.brand = brand\n",
        "        self._model = model\n",
        "        self.__price = price\n",
        "\n",
        "laptop = Laptop('Acer', 'Predator', 5490)\n",
        "print(laptop.__dict__)"
      ]
    },
    {
      "cell_type": "markdown",
      "source": [
        "### **Exercise 2**\n",
        "\n",
        "A class called *Laptop* was implemented. Then, an instance of the *Laptop* class named *laptop* was created with the following arguments:\n",
        "\n",
        "* `'Acer'`\n",
        "* `'Predator'`\n",
        "* `5490`\n",
        "\n",
        "In response, print the value for each instance attribute (on a seperate line) of the *laptop* instance as shown below.\n",
        "\n",
        "\n"
      ],
      "metadata": {
        "id": "mbD0WK0PDxj7"
      }
    },
    {
      "cell_type": "code",
      "source": [
        "class Laptop:\n",
        "    def __init__(self, brand, model, price):\n",
        "        self.brand = brand\n",
        "        self._model = model\n",
        "        self.__price = price\n",
        "\n",
        "laptop = Laptop('Acer', 'Predator', 5490)\n",
        "\n",
        "print(f\"brand -> {laptop.brand}\")\n",
        "print(f\"model -> {laptop._model}\")\n",
        "print(f\"price -> {laptop._Laptop__price}\")"
      ],
      "metadata": {
        "colab": {
          "base_uri": "https://localhost:8080/"
        },
        "id": "P0FLUaE6T69g",
        "outputId": "c4d1e5a5-356e-4e6d-c678-2fa2402153de"
      },
      "execution_count": 7,
      "outputs": [
        {
          "output_type": "stream",
          "name": "stdout",
          "text": [
            "brand -> Acer\n",
            "model -> Predator\n",
            "price -> 5490\n"
          ]
        }
      ]
    },
    {
      "cell_type": "markdown",
      "source": [
        "### **Exercise 3**\n",
        "\n",
        "An implementation of the Laptop class is given."
      ],
      "metadata": {
        "id": "6f597FSNYbyH"
      }
    },
    {
      "cell_type": "code",
      "source": [
        "class Laptop:\n",
        "\n",
        "    def __init__(self, brand, model, code, price, margin):\n",
        "        self.brand = brand\n",
        "        self._model = model\n",
        "        self._code = code\n",
        "        self.__price = price\n",
        "        self.__margin = margin"
      ],
      "metadata": {
        "id": "rlXiJiReekdA"
      },
      "execution_count": 8,
      "outputs": []
    },
    {
      "cell_type": "markdown",
      "source": [
        "Implement a method in the Laptop class called `display_private_attrs()` that displays the names of all private attributes of the instance. Then create an instance with the given arguments:\n",
        "\n",
        "* `'Acer'`\n",
        "* `'Predator'`\n",
        "* `'AC-100'`\n",
        "* `5490`\n",
        "* `0.2`\n",
        "\n",
        "and assign it to the variable laptop. In response, call `display_private_attrs()` on the laptop instance."
      ],
      "metadata": {
        "id": "w9Jtyhuwek5B"
      }
    },
    {
      "cell_type": "code",
      "source": [
        "class Laptop:\n",
        "\n",
        "    def __init__(self, brand, model, code, price, margin):\n",
        "        self.brand = brand\n",
        "        self._model = model\n",
        "        self._code = code\n",
        "        self.__price = price\n",
        "        self.__margin = margin\n",
        "\n",
        "    def display_private_attrs(self):\n",
        "        for attr in self.__dict__:\n",
        "            if attr.startswith(f'_{self.__class__.__name__}__'):\n",
        "                print(attr)\n",
        "\n",
        "laptop = Laptop('Acer', 'Predator', 'AC-100', 5490, 0.2)\n",
        "laptop.display_private_attrs()"
      ],
      "metadata": {
        "colab": {
          "base_uri": "https://localhost:8080/"
        },
        "id": "XHj9EWfwfBGW",
        "outputId": "5d27e1ac-ed78-4026-d2b6-b8b8a3ffc5d9"
      },
      "execution_count": 10,
      "outputs": [
        {
          "output_type": "stream",
          "name": "stdout",
          "text": [
            "_Laptop__price\n",
            "_Laptop__margin\n"
          ]
        }
      ]
    },
    {
      "cell_type": "markdown",
      "source": [
        " ### **Exercise 4**\n",
        "\n",
        " Implement a method called `display_protected_attrs()` in the Laptop class that displays the names of the protected attribute of the instance."
      ],
      "metadata": {
        "id": "HT5UMVuJftMN"
      }
    },
    {
      "cell_type": "code",
      "source": [
        "class Laptop:\n",
        "\n",
        "    def __init__(self, brand, model, code, price, margin):\n",
        "        self.brand = brand\n",
        "        self._model = model\n",
        "        self._code = code\n",
        "        self.__price = price\n",
        "        self.__margin = margin\n",
        "\n",
        "    def display_protected_attrs(self):\n",
        "        for attr in self.__dict__:\n",
        "            if attr.startswith('_') and \\\n",
        "                not attr.startswith(f'_{self.__class__.__name__}'):\n",
        "                print(attr)\n",
        "\n",
        "\n",
        "laptop = Laptop('Acer', 'Predator', 'AC-100', 5490, 0.2)\n",
        "laptop.display_protected_attrs()"
      ],
      "metadata": {
        "colab": {
          "base_uri": "https://localhost:8080/"
        },
        "outputId": "946a57a6-8308-44b5-c154-493ee7e640f5",
        "id": "3yaBQv-qf_TN"
      },
      "execution_count": 11,
      "outputs": [
        {
          "output_type": "stream",
          "name": "stdout",
          "text": [
            "_model\n",
            "_code\n"
          ]
        }
      ]
    }
  ]
}
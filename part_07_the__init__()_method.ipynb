{
  "nbformat": 4,
  "nbformat_minor": 0,
  "metadata": {
    "colab": {
      "provenance": [],
      "toc_visible": true
    },
    "kernelspec": {
      "name": "python3",
      "display_name": "Python 3"
    },
    "language_info": {
      "name": "python"
    }
  },
  "cells": [
    {
      "cell_type": "markdown",
      "source": [
        "# **Part 7**\n"
      ],
      "metadata": {
        "id": "gRpKvEuzHFki"
      }
    },
    {
      "cell_type": "markdown",
      "source": [
        "### **Exercise 1**\n",
        "\n",
        "Implement a class called *Laptop* that sets the following instance attributes when creating and instance:\n",
        "\n",
        "* brand\n",
        "* model\n",
        "* price\n",
        "\n",
        "Then create an instance named *laptop* with the following attribute values:\n",
        "\n",
        "* `brand = 'Acer'`\n",
        "* `model = 'Predator'`\n",
        "* `price = 5490`\n",
        "\n"
      ],
      "metadata": {
        "id": "OSRjAdWGHqSo"
      }
    },
    {
      "cell_type": "code",
      "execution_count": null,
      "metadata": {
        "colab": {
          "base_uri": "https://localhost:8080/"
        },
        "id": "oB9fR2MBG4lK",
        "outputId": "155caba3-ed7e-4849-a562-c759471ba4aa"
      },
      "outputs": [
        {
          "output_type": "stream",
          "name": "stdout",
          "text": [
            "{'brand': 'Acer', 'model': 'Predator', 'price': 5490}\n"
          ]
        }
      ],
      "source": [
        "class Laptop:\n",
        "\n",
        "    def __init__(self, brand, model, price):\n",
        "        self.brand = brand\n",
        "        self.model = model\n",
        "        self.price = price\n",
        "\n",
        "laptop = Laptop('Acer', 'Predator', 5490)\n",
        "\n",
        "print(laptop.__dict__)"
      ]
    },
    {
      "cell_type": "markdown",
      "source": [
        "### **Exercise 2**\n",
        "\n",
        "Implement a method in the Laptop class called `display_instance_attrs()` that displays **the names** of all the attributes of the Laptop instance.\n",
        "\n",
        "Then create an instance named laptop with the given attribute values:\n",
        "\n",
        "* `brand = 'Dell'`\n",
        "* `model = 'Inspiron'`\n",
        "* `price = 3699`\n",
        "\n",
        "In response, call `display_instance_attrs()` method on the laptop instance."
      ],
      "metadata": {
        "id": "dH5gtX3qgd7_"
      }
    },
    {
      "cell_type": "code",
      "source": [
        "class Laptop:\n",
        "\n",
        "    def __init__(self, brand, model, price):\n",
        "        self.brand = brand\n",
        "        self.model = model\n",
        "        self.price = price\n",
        "\n",
        "    def display_instance_attrs(self):\n",
        "        for attr in self.__dict__.keys():\n",
        "            print(attr)\n",
        "\n",
        "laptop = Laptop('Dell', 'Inspiron', 3699)\n",
        "laptop.display_instance_attrs()"
      ],
      "metadata": {
        "colab": {
          "base_uri": "https://localhost:8080/"
        },
        "id": "VlT2ifFJhRBE",
        "outputId": "b5cc332e-d1b8-4ebf-ec1d-28ba4693054f"
      },
      "execution_count": null,
      "outputs": [
        {
          "output_type": "stream",
          "name": "stdout",
          "text": [
            "brand\n",
            "model\n",
            "price\n"
          ]
        }
      ]
    },
    {
      "cell_type": "markdown",
      "source": [
        "### **Exercise 3**\n",
        "\n",
        "Implement a method in the Laptop class called `display_attrs_with_values()`, which displays the names of all the attributes of the *Laptop* class with their values as shown below (attribute name -> attribute value).\n",
        "\n",
        "Then create an instance named laptop with the following values:\n",
        "\n",
        "* `brand = 'Dell'`\n",
        "* `model = 'Inspiron'`\n",
        "* `price = 3699`\n",
        "\n",
        "In response, call `display_attrs_with_values()` method on the laptop instance."
      ],
      "metadata": {
        "id": "pr0S4TVIlgG3"
      }
    },
    {
      "cell_type": "code",
      "source": [
        "class Laptop:\n",
        "\n",
        "    def __init__(self, brand, model, price):\n",
        "        self.brand = brand\n",
        "        self.model = model\n",
        "        self.price = price\n",
        "\n",
        "    def display_attrs_with_values(self):\n",
        "        for attr in self.__dict__.keys():\n",
        "            print(f\"{attr} -> {getattr(self, attr)}\")\n",
        "\n",
        "laptop = Laptop('Dell', 'Inspiron', 3699)\n",
        "laptop.display_attrs_with_values()"
      ],
      "metadata": {
        "colab": {
          "base_uri": "https://localhost:8080/"
        },
        "id": "tgAwirmYvxNW",
        "outputId": "0e3f5b22-9e03-438b-85d7-34fd8452e5b5"
      },
      "execution_count": null,
      "outputs": [
        {
          "output_type": "stream",
          "name": "stdout",
          "text": [
            "brand -> Dell\n",
            "model -> Inspiron\n",
            "price -> 3699\n"
          ]
        }
      ]
    },
    {
      "cell_type": "markdown",
      "source": [
        "### **Exercise 4**\n",
        "\n",
        "Implement a class named *Vector* that takes any number of n-dimensional vector coordinates as arguments when creating an instance (without any validation) and assign to instance attribute named *components*. Then create two instances with the following coordinates:\n",
        "\n",
        "* `(1,2)`\n",
        "* `(4, 5, 2)`\n",
        "\n",
        "and assign to variables *v1* and *v2* respectively. In response, print the value of the *components* atribute for v1 and v2 instance as shown below.\n",
        "\n",
        "\n"
      ],
      "metadata": {
        "id": "SX0kmP7M1m6U"
      }
    },
    {
      "cell_type": "code",
      "source": [
        "class Vector:\n",
        "\n",
        "    def __init__(self, *components):\n",
        "        self.components = components\n",
        "\n",
        "v1 = Vector(1, 2)\n",
        "v2 = Vector(4, 5, 2)\n",
        "\n",
        "print(f\"v1 -> {v1.components}\")\n",
        "print(f\"v2 -> {v2.components}\")"
      ],
      "metadata": {
        "colab": {
          "base_uri": "https://localhost:8080/"
        },
        "id": "n5PmR831FWzC",
        "outputId": "dae5c29c-fea0-4600-b9c4-852a504c90c2"
      },
      "execution_count": null,
      "outputs": [
        {
          "output_type": "stream",
          "name": "stdout",
          "text": [
            "v1 -> (1, 2)\n",
            "v2 -> (4, 5, 2)\n"
          ]
        }
      ]
    },
    {
      "cell_type": "markdown",
      "source": [
        "### **Exercise 5**\n",
        "\n",
        "Implement a class called Bucket that takes any number of named arguments (keyword arguments - use **kwargs) when creating an instance. The name of the argument is the name of the instance attribute, and the value for the argument is the value for the instance attribute.\n",
        "\n",
        "Then create an instance named *bucket* by adding the following attributes with their values:\n",
        "\n",
        "* `apple=3.5`\n",
        "* `milk = 2.5`\n",
        "* `juice = 4.9`\n",
        "* `water = 2.5`\n",
        "\n",
        "In response, print the value of `__dict__` attribute for the bucket instance.\n",
        "\n"
      ],
      "metadata": {
        "id": "68pqvYedTqm_"
      }
    },
    {
      "cell_type": "code",
      "source": [
        "class Bucket:\n",
        "\n",
        "    def __init__(self, **kwargs):\n",
        "        for attr_name, attr_value in kwargs.items():\n",
        "            setattr(self, attr_name, attr_value)\n",
        "\n",
        "bucket = Bucket(apple=3.5, milk=2.5, juice=4.9, water=2.5)\n",
        "print(bucket.__dict__)"
      ],
      "metadata": {
        "colab": {
          "base_uri": "https://localhost:8080/"
        },
        "id": "L-eYehSSOzun",
        "outputId": "ee2f549c-23dc-4efb-9f48-aa5cff747823"
      },
      "execution_count": 1,
      "outputs": [
        {
          "output_type": "stream",
          "name": "stdout",
          "text": [
            "{'apple': 3.5, 'milk': 2.5, 'juice': 4.9, 'water': 2.5}\n"
          ]
        }
      ]
    },
    {
      "cell_type": "markdown",
      "source": [
        "### **Exercise 6**\n",
        "\n",
        "Implement a class called *Car* that sets the following instance atrributes when creating an instanceL\n",
        "\n",
        "* *brand*\n",
        "* *model*\n",
        "* *price*\n",
        "* *type_of_car*, by default `sedan`\n",
        "\n",
        "Then create an instance named *car* with the given values:\n",
        "\n",
        "* `brand = 'Opel'`\n",
        "* `model = 'Insignia'`\n",
        "* `price = 115000`\n",
        "\n",
        "In response, print the value of the `__dict__` attribute of the *car* instance."
      ],
      "metadata": {
        "id": "obi70wNNVJCe"
      }
    },
    {
      "cell_type": "code",
      "source": [
        "from os import PRIO_PROCESS\n",
        "class Car:\n",
        "\n",
        "    def __init__(self, brand, model, price, type_of_car=None):\n",
        "        self.brand = brand\n",
        "        self.model = model\n",
        "        self.price = price\n",
        "        self.type_of_car = type_of_car if type_of_car else 'sedan'\n",
        "\n",
        "car = Car('Opel', 'Insignia', 115000)\n",
        "\n",
        "print(car.__dict__)"
      ],
      "metadata": {
        "colab": {
          "base_uri": "https://localhost:8080/"
        },
        "id": "hkgB_1qgWNDT",
        "outputId": "6e2a5149-53f6-4c06-dfef-aa8ca3edd04b"
      },
      "execution_count": 2,
      "outputs": [
        {
          "output_type": "stream",
          "name": "stdout",
          "text": [
            "{'brand': 'Opel', 'model': 'Insignia', 'price': 115000, 'type_of_car': 'sedan'}\n"
          ]
        }
      ]
    },
    {
      "cell_type": "markdown",
      "source": [
        "### **Exercise 7**\n",
        "\n",
        "Create a instance called *car* with the given values:\n",
        "\n",
        "* `brand = 'BMW'`\n",
        "* `model = 'X3'`\n",
        "* `price = 200000`\n",
        "* `type_of_car = 'SUV'`\n",
        "\n",
        "In response, print the value of the `__dict__` of the *car* instance.\n"
      ],
      "metadata": {
        "id": "CmLZL3mtZxG3"
      }
    },
    {
      "cell_type": "code",
      "source": [
        "car = Car('BMW', 'X3', 200000, 'SUV')\n",
        "print(car.__dict__)"
      ],
      "metadata": {
        "colab": {
          "base_uri": "https://localhost:8080/"
        },
        "id": "R8aon4l5aU-I",
        "outputId": "295c4c0f-9995-4d68-db9b-198604698c42"
      },
      "execution_count": 5,
      "outputs": [
        {
          "output_type": "stream",
          "name": "stdout",
          "text": [
            "{'brand': 'BMW', 'model': 'X3', 'price': 200000, 'type_of_car': 'SUV'}\n"
          ]
        }
      ]
    },
    {
      "cell_type": "markdown",
      "source": [
        "### **Exercise 8**\n",
        "\n",
        "Implement a class called Laptop that sets the following instance attributes when creating an instance:\n",
        "\n",
        "* brand\n",
        "* model\n",
        "* price\n",
        "\n",
        "When creating an instance, add validation for the price attribute. The value of the price attribute must be an int or float type greater than zero. If it is not, raise the TypeError with the following message:\n",
        "\n",
        "* 'The price attribute must be a positive int or float.'\n",
        "\n",
        "Then create an instance called *laptop* with the given attributes:\n",
        "\n",
        "* `brand = 'Acer'`\n",
        "* `model = 'Predator'`\n",
        "* `price = 5490`\n",
        "\n",
        "In response, print the value of the __dict__ attribute of the laptop instance."
      ],
      "metadata": {
        "id": "M9TNyxvhcoBm"
      }
    },
    {
      "cell_type": "code",
      "source": [
        "class Laptop:\n",
        "    def __init__(self, brand , model, price):\n",
        "        self.brand = brand\n",
        "        self.model = model\n",
        "        if isinstance(price, (int, float)) and price > 0:\n",
        "            self.price = price\n",
        "        else:\n",
        "            raise TypeError('The price attribute must be a positive int or float')\n",
        "\n",
        "laptop = Laptop('Acer', 'Predator', 5490)\n",
        "print(laptop.__dict__)"
      ],
      "metadata": {
        "colab": {
          "base_uri": "https://localhost:8080/"
        },
        "id": "-xvbMakNimUV",
        "outputId": "9fad08b4-d1a3-455e-d36b-a000c94e06a8"
      },
      "execution_count": 12,
      "outputs": [
        {
          "output_type": "stream",
          "name": "stdout",
          "text": [
            "{'brand': 'Acer', 'model': 'Predator', 'price': 5490}\n"
          ]
        }
      ]
    },
    {
      "cell_type": "markdown",
      "source": [
        "### **Exercise 9**\n",
        "\n",
        "Try to create an instance named *laptop* with the given attribute values:\n",
        "\n",
        "* `brand = 'Acer'`\n",
        "* `model = 'Predator'`\n",
        "* `price = '5900'`\n",
        "\n",
        "Note that in this case the value of the price attribute is passed as a `str` type.\n",
        "\n"
      ],
      "metadata": {
        "id": "J7RtbnMnwX43"
      }
    },
    {
      "cell_type": "code",
      "source": [
        "class Laptop:\n",
        "    def __init__(self, brand, model, price):\n",
        "        self.brand = brand\n",
        "        self.model = model\n",
        "        if isinstance(price, (int, float)) and price > 0:\n",
        "            self.price = price\n",
        "        else:\n",
        "            raise TypeError(\n",
        "                'The price attribute must be a positive int or '\n",
        "                'float.'\n",
        "            )\n",
        "\n",
        "try:\n",
        "    laptop = Laptop('Acer', 'Predator', '5900')\n",
        "except TypeError as error:\n",
        "    print(error)"
      ],
      "metadata": {
        "colab": {
          "base_uri": "https://localhost:8080/"
        },
        "id": "TBksMqrYxrwZ",
        "outputId": "525b3918-8aeb-49cc-c12a-6917fdc3d3f7"
      },
      "execution_count": 13,
      "outputs": [
        {
          "output_type": "stream",
          "name": "stdout",
          "text": [
            "The price attribute must be a positive int or float.\n"
          ]
        }
      ]
    }
  ]
}